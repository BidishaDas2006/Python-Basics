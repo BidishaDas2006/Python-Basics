{
 "cells": [
  {
   "cell_type": "markdown",
   "id": "640b6ecf-f741-45ac-baf3-aee605572e84",
   "metadata": {},
   "source": [
    "Some Useful Functions"
   ]
  },
  {
   "cell_type": "code",
   "execution_count": 1,
   "id": "cd0611a4-0b91-41d5-ac50-fb80138842be",
   "metadata": {},
   "outputs": [
    {
     "data": {
      "text/plain": [
       "4"
      ]
     },
     "execution_count": 1,
     "metadata": {},
     "output_type": "execute_result"
    }
   ],
   "source": [
    "round(3.6)"
   ]
  },
  {
   "cell_type": "code",
   "execution_count": 2,
   "id": "b044710a-4a85-4ace-bd66-7b11ab8c1cf0",
   "metadata": {},
   "outputs": [
    {
     "name": "stdout",
     "output_type": "stream",
     "text": [
      "5\n"
     ]
    }
   ],
   "source": [
    "print(round(4.98))"
   ]
  },
  {
   "cell_type": "code",
   "execution_count": 3,
   "id": "ccb3afff-41f7-4bf4-a988-9b9b8d2d6a2b",
   "metadata": {},
   "outputs": [
    {
     "name": "stdout",
     "output_type": "stream",
     "text": [
      "7.5679\n"
     ]
    }
   ],
   "source": [
    "print(round(7.56789,4))"
   ]
  },
  {
   "cell_type": "code",
   "execution_count": 4,
   "id": "8e5509db-2fc5-4a6a-9528-7c137ffd47b9",
   "metadata": {},
   "outputs": [
    {
     "name": "stdout",
     "output_type": "stream",
     "text": [
      "6.79\n"
     ]
    }
   ],
   "source": [
    "print(round(6.789,2))"
   ]
  },
  {
   "cell_type": "markdown",
   "id": "97deb702-dda8-4672-b3f3-9dba28b9623d",
   "metadata": {},
   "source": [
    "Divmod"
   ]
  },
  {
   "cell_type": "code",
   "execution_count": 7,
   "id": "ae62ec85-22b4-4010-b277-c88ab94b2613",
   "metadata": {},
   "outputs": [],
   "source": [
    " a=divmod(10,3)"
   ]
  },
  {
   "cell_type": "code",
   "execution_count": 8,
   "id": "f6ec6b4e-5233-4922-92da-0ce52039fb85",
   "metadata": {},
   "outputs": [
    {
     "data": {
      "text/plain": [
       "tuple"
      ]
     },
     "execution_count": 8,
     "metadata": {},
     "output_type": "execute_result"
    }
   ],
   "source": [
    "type(a)"
   ]
  },
  {
   "cell_type": "code",
   "execution_count": 9,
   "id": "c4c6f0ac-6ac1-44eb-be93-efe5554ee5df",
   "metadata": {},
   "outputs": [
    {
     "name": "stdout",
     "output_type": "stream",
     "text": [
      "(3, 1)\n"
     ]
    }
   ],
   "source": [
    "print(a)"
   ]
  },
  {
   "cell_type": "code",
   "execution_count": 10,
   "id": "a38a30b7-f298-47fb-867a-e172694e3833",
   "metadata": {},
   "outputs": [
    {
     "data": {
      "text/plain": [
       "3"
      ]
     },
     "execution_count": 10,
     "metadata": {},
     "output_type": "execute_result"
    }
   ],
   "source": [
    "a[0]"
   ]
  },
  {
   "cell_type": "code",
   "execution_count": 11,
   "id": "2c3ae46c-3061-4812-9cc4-dd8589e8adac",
   "metadata": {},
   "outputs": [
    {
     "data": {
      "text/plain": [
       "1"
      ]
     },
     "execution_count": 11,
     "metadata": {},
     "output_type": "execute_result"
    }
   ],
   "source": [
    "a[1]"
   ]
  },
  {
   "cell_type": "markdown",
   "id": "eeafe04d-b1ae-45e4-a7e7-b5a07fbf8523",
   "metadata": {},
   "source": [
    "isinstance"
   ]
  },
  {
   "cell_type": "code",
   "execution_count": 12,
   "id": "eec03b69-ffb4-4132-bb48-db1485ad25c0",
   "metadata": {},
   "outputs": [
    {
     "data": {
      "text/plain": [
       "True"
      ]
     },
     "execution_count": 12,
     "metadata": {},
     "output_type": "execute_result"
    }
   ],
   "source": [
    "isinstance(3,int)"
   ]
  },
  {
   "cell_type": "code",
   "execution_count": 13,
   "id": "5c6c804a-2a54-4efa-868b-0ed271d55c0c",
   "metadata": {},
   "outputs": [
    {
     "data": {
      "text/plain": [
       "True"
      ]
     },
     "execution_count": 13,
     "metadata": {},
     "output_type": "execute_result"
    }
   ],
   "source": [
    "isinstance(6.78,float)"
   ]
  },
  {
   "cell_type": "code",
   "execution_count": 14,
   "id": "be34e997-3e9d-492b-aef5-262c62d0cff3",
   "metadata": {},
   "outputs": [
    {
     "data": {
      "text/plain": [
       "False"
      ]
     },
     "execution_count": 14,
     "metadata": {},
     "output_type": "execute_result"
    }
   ],
   "source": [
    "isinstance(5,float)"
   ]
  },
  {
   "cell_type": "code",
   "execution_count": 16,
   "id": "58dddcbb-8dd3-4f23-84a0-dfbdeaf225f9",
   "metadata": {},
   "outputs": [
    {
     "data": {
      "text/plain": [
       "True"
      ]
     },
     "execution_count": 16,
     "metadata": {},
     "output_type": "execute_result"
    }
   ],
   "source": [
    "isinstance(5,(int,float))"
   ]
  },
  {
   "cell_type": "code",
   "execution_count": 17,
   "id": "09c065a3-5ab2-449a-a345-a3e48aefe91d",
   "metadata": {},
   "outputs": [
    {
     "data": {
      "text/plain": [
       "False"
      ]
     },
     "execution_count": 17,
     "metadata": {},
     "output_type": "execute_result"
    }
   ],
   "source": [
    "isinstance(4.0,(bool,int))"
   ]
  },
  {
   "cell_type": "code",
   "execution_count": 18,
   "id": "d1584a31-2bb5-41c1-b808-061f55936298",
   "metadata": {},
   "outputs": [
    {
     "data": {
      "text/plain": [
       "False"
      ]
     },
     "execution_count": 18,
     "metadata": {},
     "output_type": "execute_result"
    }
   ],
   "source": [
    "isinstance(2+3j,(int,float,bool))"
   ]
  },
  {
   "cell_type": "code",
   "execution_count": 19,
   "id": "2096b580-c597-4fc9-8990-003733aac903",
   "metadata": {},
   "outputs": [
    {
     "data": {
      "text/plain": [
       "True"
      ]
     },
     "execution_count": 19,
     "metadata": {},
     "output_type": "execute_result"
    }
   ],
   "source": [
    "isinstance(2+3j,(int,float,bool,complex))"
   ]
  },
  {
   "cell_type": "markdown",
   "id": "9e0dcd0a-b6e0-4cae-9e87-419ff76dd7fb",
   "metadata": {},
   "source": [
    "Pow function"
   ]
  },
  {
   "cell_type": "code",
   "execution_count": 20,
   "id": "76bf6da0-beb6-49de-a853-64d6bbdbdda7",
   "metadata": {},
   "outputs": [
    {
     "data": {
      "text/plain": [
       "16"
      ]
     },
     "execution_count": 20,
     "metadata": {},
     "output_type": "execute_result"
    }
   ],
   "source": [
    "pow(2,4)"
   ]
  },
  {
   "cell_type": "code",
   "execution_count": 21,
   "id": "922f0f30-a1e1-415d-a58f-4ac07aa626d4",
   "metadata": {},
   "outputs": [
    {
     "data": {
      "text/plain": [
       "9"
      ]
     },
     "execution_count": 21,
     "metadata": {},
     "output_type": "execute_result"
    }
   ],
   "source": [
    "pow(3,2)"
   ]
  },
  {
   "cell_type": "code",
   "execution_count": 22,
   "id": "120b4be2-2988-495e-9a07-52232de9b7c0",
   "metadata": {},
   "outputs": [
    {
     "data": {
      "text/plain": [
       "1"
      ]
     },
     "execution_count": 22,
     "metadata": {},
     "output_type": "execute_result"
    }
   ],
   "source": [
    "pow(3,2,2)"
   ]
  },
  {
   "cell_type": "markdown",
   "id": "e506cf3f-c2fa-43bc-86b6-7af93e2b7f7a",
   "metadata": {},
   "source": [
    "pow((x**y) %z)"
   ]
  },
  {
   "cell_type": "code",
   "execution_count": 23,
   "id": "eadb986b-3ebc-4a09-943f-86309954b4be",
   "metadata": {},
   "outputs": [
    {
     "data": {
      "text/plain": [
       "4"
      ]
     },
     "execution_count": 23,
     "metadata": {},
     "output_type": "execute_result"
    }
   ],
   "source": [
    "pow(3,4,7)"
   ]
  },
  {
   "cell_type": "markdown",
   "id": "72e17bfe-1734-458b-9e18-a6507cda8f4f",
   "metadata": {},
   "source": [
    "input()"
   ]
  },
  {
   "cell_type": "code",
   "execution_count": 24,
   "id": "4b4106a6-65b6-4a59-bb45-8624c597b6f5",
   "metadata": {},
   "outputs": [
    {
     "name": "stdin",
     "output_type": "stream",
     "text": [
      "enter a number: 345\n"
     ]
    }
   ],
   "source": [
    "a= input(\"enter a number:\")"
   ]
  },
  {
   "cell_type": "code",
   "execution_count": 25,
   "id": "fea90625-72c3-46af-b73a-0b1a156da749",
   "metadata": {},
   "outputs": [
    {
     "data": {
      "text/plain": [
       "str"
      ]
     },
     "execution_count": 25,
     "metadata": {},
     "output_type": "execute_result"
    }
   ],
   "source": [
    "type(a)"
   ]
  },
  {
   "cell_type": "markdown",
   "id": "09d872f0-a739-4773-b9d6-d13a95d18c94",
   "metadata": {},
   "source": [
    "Converting that str to int"
   ]
  },
  {
   "cell_type": "code",
   "execution_count": 26,
   "id": "bca387f6-a02c-49d0-bdec-a71b77bac9ba",
   "metadata": {},
   "outputs": [],
   "source": [
    "a = int(a)"
   ]
  },
  {
   "cell_type": "code",
   "execution_count": 27,
   "id": "a5013b42-48c1-4702-9dd3-8ef82ff69e2d",
   "metadata": {},
   "outputs": [
    {
     "data": {
      "text/plain": [
       "int"
      ]
     },
     "execution_count": 27,
     "metadata": {},
     "output_type": "execute_result"
    }
   ],
   "source": [
    "type(a)"
   ]
  },
  {
   "cell_type": "code",
   "execution_count": 1,
   "id": "61a96d49-89ae-446f-8be7-b1ff8f6eb1c0",
   "metadata": {},
   "outputs": [
    {
     "name": "stdout",
     "output_type": "stream",
     "text": [
      "Help on built-in function pow in module builtins:\n",
      "\n",
      "pow(base, exp, mod=None)\n",
      "    Equivalent to base**exp with 2 arguments or base**exp % mod with 3 arguments\n",
      "\n",
      "    Some types, such as ints, are able to use a more efficient algorithm when\n",
      "    invoked using the three argument form.\n",
      "\n"
     ]
    }
   ],
   "source": [
    "help(pow)"
   ]
  },
  {
   "cell_type": "code",
   "execution_count": 2,
   "id": "66d6d131-6669-4f4f-9be8-302f73f766c2",
   "metadata": {},
   "outputs": [
    {
     "data": {
      "text/plain": [
       "\u001b[1;31mSignature:\u001b[0m \u001b[0mpow\u001b[0m\u001b[1;33m(\u001b[0m\u001b[0mbase\u001b[0m\u001b[1;33m,\u001b[0m \u001b[0mexp\u001b[0m\u001b[1;33m,\u001b[0m \u001b[0mmod\u001b[0m\u001b[1;33m=\u001b[0m\u001b[1;32mNone\u001b[0m\u001b[1;33m)\u001b[0m\u001b[1;33m\u001b[0m\u001b[1;33m\u001b[0m\u001b[0m\n",
       "\u001b[1;31mDocstring:\u001b[0m\n",
       "Equivalent to base**exp with 2 arguments or base**exp % mod with 3 arguments\n",
       "\n",
       "Some types, such as ints, are able to use a more efficient algorithm when\n",
       "invoked using the three argument form.\n",
       "\u001b[1;31mType:\u001b[0m      builtin_function_or_method"
      ]
     },
     "metadata": {},
     "output_type": "display_data"
    }
   ],
   "source": [
    "pow?"
   ]
  },
  {
   "cell_type": "code",
   "execution_count": 3,
   "id": "6a353107-841f-44bb-a42c-8dfaab2b7736",
   "metadata": {},
   "outputs": [
    {
     "data": {
      "text/plain": [
       "\u001b[1;31mSignature:\u001b[0m \u001b[0mpow\u001b[0m\u001b[1;33m(\u001b[0m\u001b[0mbase\u001b[0m\u001b[1;33m,\u001b[0m \u001b[0mexp\u001b[0m\u001b[1;33m,\u001b[0m \u001b[0mmod\u001b[0m\u001b[1;33m=\u001b[0m\u001b[1;32mNone\u001b[0m\u001b[1;33m)\u001b[0m\u001b[1;33m\u001b[0m\u001b[1;33m\u001b[0m\u001b[0m\n",
       "\u001b[1;31mDocstring:\u001b[0m\n",
       "Equivalent to base**exp with 2 arguments or base**exp % mod with 3 arguments\n",
       "\n",
       "Some types, such as ints, are able to use a more efficient algorithm when\n",
       "invoked using the three argument form.\n",
       "\u001b[1;31mType:\u001b[0m      builtin_function_or_method"
      ]
     },
     "metadata": {},
     "output_type": "display_data"
    }
   ],
   "source": [
    "pow??"
   ]
  },
  {
   "cell_type": "code",
   "execution_count": null,
   "id": "a3bf4a67-c028-4673-ac0c-b913485de29f",
   "metadata": {},
   "outputs": [],
   "source": []
  },
  {
   "cell_type": "code",
   "execution_count": null,
   "id": "0eb2e266-caa7-4269-9725-04fe6499f2c0",
   "metadata": {},
   "outputs": [],
   "source": []
  }
 ],
 "metadata": {
  "kernelspec": {
   "display_name": "Python [conda env:base] *",
   "language": "python",
   "name": "conda-base-py"
  },
  "language_info": {
   "codemirror_mode": {
    "name": "ipython",
    "version": 3
   },
   "file_extension": ".py",
   "mimetype": "text/x-python",
   "name": "python",
   "nbconvert_exporter": "python",
   "pygments_lexer": "ipython3",
   "version": "3.13.5"
  }
 },
 "nbformat": 4,
 "nbformat_minor": 5
}
