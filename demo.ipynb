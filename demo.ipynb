{
 "cells": [
  {
   "cell_type": "markdown",
   "id": "94050b74-c695-4e42-8dbc-ab86145110aa",
   "metadata": {},
   "source": [
    "This is my First python turtorial"
   ]
  },
  {
   "cell_type": "code",
   "execution_count": 1,
   "id": "b6e0e7a3-e65d-4b0f-9c42-b02dbf34a564",
   "metadata": {},
   "outputs": [
    {
     "name": "stdout",
     "output_type": "stream",
     "text": [
      "Bidisha\n"
     ]
    }
   ],
   "source": [
    "print(\"Bidisha\")"
   ]
  },
  {
   "cell_type": "code",
   "execution_count": 2,
   "id": "20535ec7-5f9e-4087-b903-f65448fbeb1e",
   "metadata": {},
   "outputs": [
    {
     "name": "stdout",
     "output_type": "stream",
     "text": [
      "Prince treatment\n"
     ]
    }
   ],
   "source": [
    "print(\"Prince treatment\")\n"
   ]
  },
  {
   "cell_type": "markdown",
   "id": "01c90fef-dfc8-4b94-92af-86f68f05a9b7",
   "metadata": {},
   "source": [
    "$a =b+c$\n"
   ]
  },
  {
   "cell_type": "markdown",
   "id": "980158cb-0129-439e-a2c5-8ef278bf5a7b",
   "metadata": {},
   "source": [
    "#Variables"
   ]
  },
  {
   "cell_type": "code",
   "execution_count": 4,
   "id": "b5749e40-6f36-47ee-8b71-2a2bde3c00dd",
   "metadata": {},
   "outputs": [],
   "source": [
    "y=10"
   ]
  },
  {
   "cell_type": "code",
   "execution_count": 5,
   "id": "11af66de-f3a3-4abb-a9e5-6905453770b2",
   "metadata": {},
   "outputs": [
    {
     "name": "stdout",
     "output_type": "stream",
     "text": [
      "Variable               Type        Data/Info\n",
      "--------------------------------------------\n",
      "dataframe_columns      function    <function dataframe_colum<...>ns at 0x00000276727E2B60>\n",
      "dataframe_hash         function    <function dataframe_hash at 0x00000276727E2AC0>\n",
      "dtypes_str             function    <function dtypes_str at 0x00000276727E2520>\n",
      "get_dataframes         function    <function get_dataframes at 0x00000276727E2660>\n",
      "getpass                module      <module 'getpass' from 'C<...>conda3\\\\Lib\\\\getpass.py'>\n",
      "hashlib                module      <module 'hashlib' from 'C<...>conda3\\\\Lib\\\\hashlib.py'>\n",
      "import_pandas_safely   function    <function import_pandas_s<...>ly at 0x00000276727E2200>\n",
      "is_data_frame          function    <function is_data_frame at 0x00000276727E2340>\n",
      "json                   module      <module 'json' from 'C:\\\\<...>\\Lib\\\\json\\\\__init__.py'>\n",
      "x                      int         5\n",
      "y                      int         10\n"
     ]
    }
   ],
   "source": [
    "%whos"
   ]
  },
  {
   "cell_type": "code",
   "execution_count": 6,
   "id": "f50cb4f9-1e10-4218-9a01-719468919600",
   "metadata": {},
   "outputs": [],
   "source": [
    "a,b=3,5.5"
   ]
  },
  {
   "cell_type": "code",
   "execution_count": 7,
   "id": "e341ef99-c82b-4c99-b782-b15c9b4ff74e",
   "metadata": {},
   "outputs": [
    {
     "name": "stdout",
     "output_type": "stream",
     "text": [
      "a\t x\t y\t \n"
     ]
    }
   ],
   "source": [
    "%who int"
   ]
  },
  {
   "cell_type": "code",
   "execution_count": 8,
   "id": "0d7997ac-3f0d-47f3-9996-09d03c1584ed",
   "metadata": {},
   "outputs": [
    {
     "name": "stdout",
     "output_type": "stream",
     "text": [
      "Variable   Type    Data/Info\n",
      "----------------------------\n",
      "a          int     3\n",
      "x          int     5\n",
      "y          int     10\n"
     ]
    }
   ],
   "source": [
    "%whos int"
   ]
  },
  {
   "cell_type": "code",
   "execution_count": 9,
   "id": "86f29eb7-74c8-43ee-907d-7cc740ebde39",
   "metadata": {},
   "outputs": [
    {
     "name": "stdout",
     "output_type": "stream",
     "text": [
      "Variable   Type     Data/Info\n",
      "-----------------------------\n",
      "a          int      3\n",
      "b          float    5.5\n",
      "x          int      5\n",
      "y          int      10\n"
     ]
    }
   ],
   "source": [
    "%whos int float"
   ]
  },
  {
   "cell_type": "code",
   "execution_count": 10,
   "id": "4a323c4e-1a39-4151-9119-d35664a7a6a5",
   "metadata": {},
   "outputs": [
    {
     "name": "stdout",
     "output_type": "stream",
     "text": [
      "<class 'float'>\n"
     ]
    }
   ],
   "source": [
    "print(type(b))"
   ]
  },
  {
   "cell_type": "code",
   "execution_count": 17,
   "id": "f9abf859-e73d-4f4a-b46e-079cd58dc0d2",
   "metadata": {},
   "outputs": [],
   "source": [
    "abcd=456"
   ]
  },
  {
   "cell_type": "code",
   "execution_count": 18,
   "id": "ddd04f48-1294-4af6-82cd-975801489fee",
   "metadata": {},
   "outputs": [
    {
     "name": "stdout",
     "output_type": "stream",
     "text": [
      "456\n"
     ]
    }
   ],
   "source": [
    "print(abcd)"
   ]
  },
  {
   "cell_type": "code",
   "execution_count": 12,
   "id": "034f1039-848a-4f05-95a4-ce505a3e78bb",
   "metadata": {},
   "outputs": [
    {
     "name": "stdout",
     "output_type": "stream",
     "text": [
      "Variable               Type        Data/Info\n",
      "--------------------------------------------\n",
      "a                      int         3\n",
      "abcd                   int         456\n",
      "b                      float       5.5\n",
      "dataframe_columns      function    <function dataframe_colum<...>ns at 0x00000276727E2CA0>\n",
      "dataframe_hash         function    <function dataframe_hash at 0x00000276727E22A0>\n",
      "dtypes_str             function    <function dtypes_str at 0x00000276727E27A0>\n",
      "get_dataframes         function    <function get_dataframes at 0x00000276727E2980>\n",
      "getpass                module      <module 'getpass' from 'C<...>conda3\\\\Lib\\\\getpass.py'>\n",
      "hashlib                module      <module 'hashlib' from 'C<...>conda3\\\\Lib\\\\hashlib.py'>\n",
      "import_pandas_safely   function    <function import_pandas_s<...>ly at 0x00000276727E2F20>\n",
      "is_data_frame          function    <function is_data_frame at 0x00000276727E2AC0>\n",
      "json                   module      <module 'json' from 'C:\\\\<...>\\Lib\\\\json\\\\__init__.py'>\n",
      "x                      int         5\n",
      "y                      int         10\n"
     ]
    }
   ],
   "source": [
    "%whos"
   ]
  },
  {
   "cell_type": "code",
   "execution_count": 13,
   "id": "8e3b0628-6ebb-44b4-be74-b858ce8d6821",
   "metadata": {},
   "outputs": [],
   "source": [
    "del abcd"
   ]
  },
  {
   "cell_type": "code",
   "execution_count": 14,
   "id": "ff0f9eea-bef7-4eae-96b1-28f0ed57d424",
   "metadata": {},
   "outputs": [
    {
     "name": "stdout",
     "output_type": "stream",
     "text": [
      "Variable   Type    Data/Info\n",
      "----------------------------\n",
      "a          int     3\n",
      "x          int     5\n",
      "y          int     10\n"
     ]
    }
   ],
   "source": [
    "%whos int"
   ]
  },
  {
   "cell_type": "code",
   "execution_count": 15,
   "id": "b65aaa3c-c296-4745-a7e7-e2c74a833f11",
   "metadata": {},
   "outputs": [],
   "source": [
    "c=2+5j"
   ]
  },
  {
   "cell_type": "code",
   "execution_count": 16,
   "id": "cdca9d95-f622-4b04-a234-748ba12483eb",
   "metadata": {},
   "outputs": [
    {
     "name": "stdout",
     "output_type": "stream",
     "text": [
      "<class 'complex'>\n"
     ]
    }
   ],
   "source": [
    "print(type(c))"
   ]
  },
  {
   "cell_type": "markdown",
   "id": "5c70c7da-4854-4fea-89a1-5f25b30264de",
   "metadata": {},
   "source": [
    "#Operators"
   ]
  },
  {
   "cell_type": "code",
   "execution_count": 19,
   "id": "e8fb7a41-2e96-4ea7-9766-2ba9b324df72",
   "metadata": {},
   "outputs": [
    {
     "name": "stdout",
     "output_type": "stream",
     "text": [
      "Variable   Type    Data/Info\n",
      "----------------------------\n",
      "a          int     3\n",
      "abcd       int     456\n",
      "x          int     5\n",
      "y          int     10\n"
     ]
    }
   ],
   "source": [
    "%whos int"
   ]
  },
  {
   "cell_type": "code",
   "execution_count": 20,
   "id": "8179c362-ec72-4d9e-b509-b0f1a65b0d1b",
   "metadata": {},
   "outputs": [],
   "source": [
    "sumOfAandX=a+x"
   ]
  },
  {
   "cell_type": "code",
   "execution_count": 21,
   "id": "9cace908-2ea7-4d93-ae7a-df3008cd089f",
   "metadata": {},
   "outputs": [
    {
     "name": "stdout",
     "output_type": "stream",
     "text": [
      "8\n"
     ]
    }
   ],
   "source": [
    "print(sumOfAandX)"
   ]
  },
  {
   "cell_type": "code",
   "execution_count": 24,
   "id": "84933739-2dc5-4ee1-85fc-76f4461391df",
   "metadata": {},
   "outputs": [
    {
     "data": {
      "text/plain": [
       "int"
      ]
     },
     "execution_count": 24,
     "metadata": {},
     "output_type": "execute_result"
    }
   ],
   "source": [
    "type(sumOfAandX)"
   ]
  },
  {
   "cell_type": "code",
   "execution_count": 25,
   "id": "1a333919-32ec-427a-8841-60f389c5e292",
   "metadata": {},
   "outputs": [
    {
     "data": {
      "text/plain": [
       "float"
      ]
     },
     "execution_count": 25,
     "metadata": {},
     "output_type": "execute_result"
    }
   ],
   "source": [
    "type(a+b)"
   ]
  },
  {
   "cell_type": "code",
   "execution_count": 27,
   "id": "07ed5fee-8adc-4c5e-888d-5993d68bdc5e",
   "metadata": {},
   "outputs": [],
   "source": [
    "v =((a+b)**3)/4"
   ]
  },
  {
   "cell_type": "code",
   "execution_count": 28,
   "id": "6b574eac-1264-4097-ad42-1329ca1eb4ff",
   "metadata": {},
   "outputs": [
    {
     "data": {
      "text/plain": [
       "float"
      ]
     },
     "execution_count": 28,
     "metadata": {},
     "output_type": "execute_result"
    }
   ],
   "source": [
    "type(v)"
   ]
  },
  {
   "cell_type": "code",
   "execution_count": 39,
   "id": "60b21719-a9ae-47eb-a0af-b0fd0c9a2f45",
   "metadata": {},
   "outputs": [
    {
     "data": {
      "text/plain": [
       "3"
      ]
     },
     "execution_count": 39,
     "metadata": {},
     "output_type": "execute_result"
    }
   ],
   "source": [
    "10//3"
   ]
  },
  {
   "cell_type": "code",
   "execution_count": 43,
   "id": "2338907b-d867-4ffa-a5cf-091ab0795b21",
   "metadata": {},
   "outputs": [],
   "source": [
    "_a=10"
   ]
  },
  {
   "cell_type": "markdown",
   "id": "01db460f-7ec4-4a61-9907-27e31da9e95d",
   "metadata": {},
   "source": [
    "Camel notation"
   ]
  },
  {
   "cell_type": "code",
   "execution_count": 45,
   "id": "de04851b-467a-445b-bb81-d3041bb83e6f",
   "metadata": {},
   "outputs": [],
   "source": [
    "sumOfTwoIntegers = 10"
   ]
  },
  {
   "cell_type": "code",
   "execution_count": 47,
   "id": "3980ce9d-21c9-4ac3-bab5-7acf9ea13acc",
   "metadata": {},
   "outputs": [
    {
     "name": "stdout",
     "output_type": "stream",
     "text": [
      "Variable           Type    Data/Info\n",
      "------------------------------------\n",
      "a                  int     3\n",
      "abcd               int     456\n",
      "sumOfAandX         int     8\n",
      "sumOfTwoIntegers   int     10\n",
      "x                  int     5\n",
      "y                  int     10\n"
     ]
    }
   ],
   "source": [
    "%whos int"
   ]
  },
  {
   "cell_type": "markdown",
   "id": "8bbac3e4-b02c-4c22-9f18-3346fb6c9d12",
   "metadata": {},
   "source": [
    "Bool"
   ]
  },
  {
   "cell_type": "code",
   "execution_count": 48,
   "id": "a5e09ca2-a753-465b-8f9e-20afd0c1aa75",
   "metadata": {},
   "outputs": [],
   "source": [
    "a=True\n",
    "b=True\n",
    "c=False"
   ]
  },
  {
   "cell_type": "code",
   "execution_count": 49,
   "id": "3005ce1d-229a-4699-b819-72a97dfa1e2f",
   "metadata": {},
   "outputs": [
    {
     "name": "stdout",
     "output_type": "stream",
     "text": [
      "Variable   Type    Data/Info\n",
      "----------------------------\n",
      "a          bool    True\n",
      "b          bool    True\n",
      "c          bool    False\n"
     ]
    }
   ],
   "source": [
    "%whos bool"
   ]
  },
  {
   "cell_type": "code",
   "execution_count": 50,
   "id": "796beab0-d773-45f6-b61d-2b3e8f86c446",
   "metadata": {},
   "outputs": [
    {
     "name": "stdout",
     "output_type": "stream",
     "text": [
      "True\n",
      "False\n",
      "False\n"
     ]
    }
   ],
   "source": [
    "print(a and b)\n",
    "print(a and c)\n",
    "print(c and b)"
   ]
  },
  {
   "cell_type": "code",
   "execution_count": 51,
   "id": "1c9def71-888c-4c8d-8774-878d8596092c",
   "metadata": {},
   "outputs": [
    {
     "name": "stdout",
     "output_type": "stream",
     "text": [
      "True\n",
      "True\n",
      "True\n"
     ]
    }
   ],
   "source": [
    "print(a or b)\n",
    "print(a or c)\n",
    "print(c or b)"
   ]
  },
  {
   "cell_type": "code",
   "execution_count": 53,
   "id": "ba152f05-1e8f-4134-84bb-3076d96205d1",
   "metadata": {},
   "outputs": [
    {
     "data": {
      "text/plain": [
       "False"
      ]
     },
     "execution_count": 53,
     "metadata": {},
     "output_type": "execute_result"
    }
   ],
   "source": [
    "not(a)\n"
   ]
  },
  {
   "cell_type": "code",
   "execution_count": 54,
   "id": "b8bffe54-7fb6-4875-a7af-24e9e90c6d17",
   "metadata": {},
   "outputs": [
    {
     "data": {
      "text/plain": [
       "True"
      ]
     },
     "execution_count": 54,
     "metadata": {},
     "output_type": "execute_result"
    }
   ],
   "source": [
    "not(c)"
   ]
  },
  {
   "cell_type": "code",
   "execution_count": 55,
   "id": "26601b79-4401-4fb0-bc4d-57a73d9b8733",
   "metadata": {},
   "outputs": [
    {
     "name": "stdout",
     "output_type": "stream",
     "text": [
      "<class 'bool'>\n"
     ]
    }
   ],
   "source": [
    "print(type(not(a)))"
   ]
  },
  {
   "cell_type": "code",
   "execution_count": 57,
   "id": "21634e72-d432-4175-8a51-4e4a66f08dce",
   "metadata": {},
   "outputs": [],
   "source": [
    "t= not(c)"
   ]
  },
  {
   "cell_type": "code",
   "execution_count": 58,
   "id": "9277e6fd-6185-4d5c-97de-ff12dc8570e3",
   "metadata": {},
   "outputs": [
    {
     "data": {
      "text/plain": [
       "bool"
      ]
     },
     "execution_count": 58,
     "metadata": {},
     "output_type": "execute_result"
    }
   ],
   "source": [
    "type(t)"
   ]
  },
  {
   "cell_type": "code",
   "execution_count": 59,
   "id": "bc7fe273-e1e3-4fd1-954d-24c67b60120b",
   "metadata": {},
   "outputs": [
    {
     "name": "stdout",
     "output_type": "stream",
     "text": [
      "True\n"
     ]
    }
   ],
   "source": [
    "print(t)"
   ]
  },
  {
   "cell_type": "code",
   "execution_count": 60,
   "id": "384dbc80-231f-463e-8922-9592debb4dd4",
   "metadata": {},
   "outputs": [
    {
     "data": {
      "text/plain": [
       "False"
      ]
     },
     "execution_count": 60,
     "metadata": {},
     "output_type": "execute_result"
    }
   ],
   "source": [
    "not((a and b) or (c and b))"
   ]
  },
  {
   "cell_type": "markdown",
   "id": "6cc144c7-e2d7-4db9-b1e1-8670078eef71",
   "metadata": {},
   "source": [
    "Comparisons"
   ]
  },
  {
   "cell_type": "code",
   "execution_count": 61,
   "id": "df513d85-ad2a-4117-9919-27ac13c65953",
   "metadata": {},
   "outputs": [
    {
     "data": {
      "text/plain": [
       "False"
      ]
     },
     "execution_count": 61,
     "metadata": {},
     "output_type": "execute_result"
    }
   ],
   "source": [
    "4==3"
   ]
  },
  {
   "cell_type": "code",
   "execution_count": 62,
   "id": "a3afa820-126b-4fa5-91be-7329397ecaf2",
   "metadata": {},
   "outputs": [
    {
     "data": {
      "text/plain": [
       "True"
      ]
     },
     "execution_count": 62,
     "metadata": {},
     "output_type": "execute_result"
    }
   ],
   "source": [
    "4>3"
   ]
  },
  {
   "cell_type": "code",
   "execution_count": 63,
   "id": "ac9a7cce-442d-4d0f-a2ab-0285297c1dc7",
   "metadata": {},
   "outputs": [
    {
     "data": {
      "text/plain": [
       "bool"
      ]
     },
     "execution_count": 63,
     "metadata": {},
     "output_type": "execute_result"
    }
   ],
   "source": [
    "type(4>3)"
   ]
  },
  {
   "cell_type": "code",
   "execution_count": 64,
   "id": "d580cf6d-2497-40ef-b0bc-7a5407bdcdb6",
   "metadata": {},
   "outputs": [],
   "source": [
    "x=3\n",
    "y=8\n",
    "z=9"
   ]
  },
  {
   "cell_type": "code",
   "execution_count": 65,
   "id": "3b480bfa-c1e0-4544-bfad-d35f00ac53ae",
   "metadata": {},
   "outputs": [
    {
     "data": {
      "text/plain": [
       "True"
      ]
     },
     "execution_count": 65,
     "metadata": {},
     "output_type": "execute_result"
    }
   ],
   "source": [
    "(x<y) or(y<z)"
   ]
  },
  {
   "cell_type": "code",
   "execution_count": null,
   "id": "6a9b0f6d-f6a2-4bec-8d6b-63e89ff0674d",
   "metadata": {},
   "outputs": [],
   "source": []
  }
 ],
 "metadata": {
  "kernelspec": {
   "display_name": "Python [conda env:base] *",
   "language": "python",
   "name": "conda-base-py"
  },
  "language_info": {
   "codemirror_mode": {
    "name": "ipython",
    "version": 3
   },
   "file_extension": ".py",
   "mimetype": "text/x-python",
   "name": "python",
   "nbconvert_exporter": "python",
   "pygments_lexer": "ipython3",
   "version": "3.13.5"
  }
 },
 "nbformat": 4,
 "nbformat_minor": 5
}
