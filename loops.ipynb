{
 "cells": [
  {
   "cell_type": "markdown",
   "id": "d70d6ba0-33f9-4660-a85e-c8128413a64a",
   "metadata": {},
   "source": [
    "Loops\n"
   ]
  },
  {
   "cell_type": "markdown",
   "id": "800a4b59-534d-4283-a600-8f3bb8581314",
   "metadata": {},
   "source": [
    "while loops"
   ]
  },
  {
   "cell_type": "code",
   "execution_count": 5,
   "id": "d3b524df-2e3d-4ee3-b6c5-707f460c760b",
   "metadata": {},
   "outputs": [
    {
     "name": "stdin",
     "output_type": "stream",
     "text": [
      " 5\n"
     ]
    },
    {
     "name": "stdout",
     "output_type": "stream",
     "text": [
      "1\n",
      "the iteration number:  1\n",
      "4\n",
      "the iteration number:  2\n",
      "9\n",
      "the iteration number:  3\n",
      "16\n",
      "the iteration number:  4\n",
      "loop done\n"
     ]
    }
   ],
   "source": [
    "n = int(input())\n",
    "i=1\n",
    "while i<n:\n",
    "    print(i**2)\n",
    "    print(\"the iteration number: \",i)\n",
    "    i+=1\n",
    "print(\"loop done\")"
   ]
  },
  {
   "cell_type": "code",
   "execution_count": 9,
   "id": "0319c47e-97a3-4199-aa34-a0a3c7d4c286",
   "metadata": {},
   "outputs": [
    {
     "name": "stdout",
     "output_type": "stream",
     "text": [
      "inside if\n",
      "inside if\n",
      "inside if\n",
      "inside if\n",
      "inside if\n",
      "inside if\n",
      "inside if\n",
      "inside if\n",
      "somethingelse\n",
      "done\n"
     ]
    }
   ],
   "source": [
    "n=10\n",
    "i=1\n",
    "while True:\n",
    "    if i%9!=0:\n",
    "        print(\"inside if\")\n",
    "        i+=1\n",
    "        continue\n",
    "    \n",
    "    print(\"somethingelse\")\n",
    "    break\n",
    "print(\"done\")\n",
    "    \n",
    "    "
   ]
  },
  {
   "cell_type": "markdown",
   "id": "f51547a1-f0ef-4299-b127-765149fc9804",
   "metadata": {},
   "source": [
    "for loops"
   ]
  },
  {
   "cell_type": "code",
   "execution_count": 11,
   "id": "e6bc9a1c-b90c-4de5-adf3-befb4406d144",
   "metadata": {},
   "outputs": [
    {
     "name": "stdout",
     "output_type": "stream",
     "text": [
      "1\n",
      "2\n",
      "3\n",
      "4\n",
      "5\n",
      "6\n",
      "7\n",
      "8\n",
      "9\n",
      "10\n",
      "11\n",
      "12\n",
      "13\n",
      "14\n",
      "15\n",
      "16\n",
      "17\n",
      "18\n",
      "19\n",
      "20\n",
      "[0, 1, 4, 9, 16, 25, 36, 49, 64, 81, 100, 121, 144, 169, 196, 225, 256, 289, 324, 361]\n"
     ]
    }
   ],
   "source": [
    "L = []\n",
    "for i in range(20):\n",
    "    print(i+1)\n",
    "    L.append(i**2)\n",
    "print(L)"
   ]
  },
  {
   "cell_type": "code",
   "execution_count": 14,
   "id": "09188022-c8ca-433d-b2fe-44a69db5cae9",
   "metadata": {},
   "outputs": [
    {
     "name": "stdout",
     "output_type": "stream",
     "text": [
      "0\n",
      "2\n",
      "4\n",
      "6\n",
      "8\n",
      "10\n",
      "12\n",
      "14\n",
      "16\n",
      "18\n",
      "[0, 4, 16, 36, 64, 100, 144, 196, 256, 324]\n"
     ]
    }
   ],
   "source": [
    "L = []\n",
    "for i in range(0,20,2):\n",
    "    print(i)\n",
    "    L.append(i**2)\n",
    "print(L)"
   ]
  },
  {
   "cell_type": "markdown",
   "id": "612047b1-3bc6-4d57-aee8-dc8198bef3ee",
   "metadata": {},
   "source": [
    "else in for loops"
   ]
  },
  {
   "cell_type": "code",
   "execution_count": 17,
   "id": "47a7577d-f750-4456-b79a-5430dcd64554",
   "metadata": {},
   "outputs": [
    {
     "name": "stdout",
     "output_type": "stream",
     "text": [
      "apple\n",
      "4.5\n",
      "Bidisha\n",
      "done\n"
     ]
    }
   ],
   "source": [
    "s ={\"apple\",4.5,\"Bidisha\"}\n",
    "i=1\n",
    "for x in s:\n",
    "    print(x)\n",
    "    i+=1\n",
    "    if i==4:\n",
    "        break\n",
    "    else:\n",
    "        pass\n",
    "    \n",
    "else:\n",
    "    print(\"else part\")\n",
    "print(\"done\")    "
   ]
  },
  {
   "cell_type": "code",
   "execution_count": 18,
   "id": "30ac20e7-cc84-4bc3-8c4b-81be9acd9677",
   "metadata": {},
   "outputs": [
    {
     "name": "stdout",
     "output_type": "stream",
     "text": [
      "A 10\n",
      "B -19\n",
      "c abcd\n"
     ]
    }
   ],
   "source": [
    "D ={ \"A\":10,\"B\":-19,\"c\":\"abcd\"}\n",
    "for x in D:\n",
    "    print(x,D[x])\n",
    "    "
   ]
  },
  {
   "cell_type": "code",
   "execution_count": 28,
   "id": "03be4f60-4dae-4587-a260-9128a55fdc9e",
   "metadata": {},
   "outputs": [
    {
     "name": "stdout",
     "output_type": "stream",
     "text": [
      "[-5, 1, 2, 2, 3, 4, 7, 9]\n"
     ]
    }
   ],
   "source": [
    "\"\"\"\n",
    "Q.sorting a list given below:\n",
    "\"\"\"\n",
    "L=[1,2,4,-5,7,9,3,2]\n",
    "for j in range(len(L)):\n",
    "    m=L[j]\n",
    "    idx=j\n",
    "    c=j\n",
    "    for i in range(j,len(L)):\n",
    "        if L[i]<m:\n",
    "            m=L[i]\n",
    "            idx=c\n",
    "        c+=1\n",
    "    tmp=L[j]\n",
    "    L[j]=m\n",
    "    L[idx]=tmp\n",
    "            \n",
    "print(L)        \n"
   ]
  },
  {
   "cell_type": "code",
   "execution_count": null,
   "id": "03a5b626-f33e-4324-9d20-fedb781e4c46",
   "metadata": {},
   "outputs": [],
   "source": []
  }
 ],
 "metadata": {
  "kernelspec": {
   "display_name": "Python [conda env:base] *",
   "language": "python",
   "name": "conda-base-py"
  },
  "language_info": {
   "codemirror_mode": {
    "name": "ipython",
    "version": 3
   },
   "file_extension": ".py",
   "mimetype": "text/x-python",
   "name": "python",
   "nbconvert_exporter": "python",
   "pygments_lexer": "ipython3",
   "version": "3.13.5"
  }
 },
 "nbformat": 4,
 "nbformat_minor": 5
}
