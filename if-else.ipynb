{
 "cells": [
  {
   "cell_type": "markdown",
   "id": "0d0f6c9d-414d-446a-94d3-a63166a69f73",
   "metadata": {},
   "source": [
    "control flow if condition"
   ]
  },
  {
   "cell_type": "code",
   "execution_count": 2,
   "id": "2c782883-42ce-4766-8a8b-6de7181ce4ae",
   "metadata": {},
   "outputs": [
    {
     "name": "stdin",
     "output_type": "stream",
     "text": [
      " 34\n",
      " 60\n"
     ]
    },
    {
     "name": "stdout",
     "output_type": "stream",
     "text": [
      "outside of if statement\n"
     ]
    }
   ],
   "source": [
    "a = int(input())\n",
    "b= int(input())\n",
    "if a>b :\n",
    "    print(a)\n",
    "    print(\"inside if statement\")\n",
    "print(\"outside of if statement\")    "
   ]
  },
  {
   "cell_type": "markdown",
   "id": "805afdfc-d51f-4a07-bd3b-af96dac79fe9",
   "metadata": {},
   "source": [
    "if-else"
   ]
  },
  {
   "cell_type": "code",
   "execution_count": 6,
   "id": "df647d6c-c20d-48eb-9f82-d5f06e8e0e8f",
   "metadata": {},
   "outputs": [
    {
     "name": "stdin",
     "output_type": "stream",
     "text": [
      " 30\n",
      " 15\n"
     ]
    },
    {
     "name": "stdout",
     "output_type": "stream",
     "text": [
      "x is greater than y\n"
     ]
    }
   ],
   "source": [
    "x =int(input())\n",
    "y=int(input())\n",
    "if x>y:\n",
    "    print(\"x is greater than y\")\n",
    "else:\n",
    "    print(\"y is greater than x\")"
   ]
  },
  {
   "cell_type": "markdown",
   "id": "72c8023a-c127-418a-9a51-8bd2c7139a02",
   "metadata": {},
   "source": [
    "if-elif-else"
   ]
  },
  {
   "cell_type": "code",
   "execution_count": 9,
   "id": "8ab3675d-978b-49b8-b4bb-e3ab301af73f",
   "metadata": {},
   "outputs": [
    {
     "name": "stdin",
     "output_type": "stream",
     "text": [
      " 90\n",
      " 90\n"
     ]
    },
    {
     "name": "stdout",
     "output_type": "stream",
     "text": [
      "both are equal\n"
     ]
    }
   ],
   "source": [
    "a= int(input())\n",
    "b= int(input())\n",
    "if a>b:\n",
    "    print(\"a is greater\")\n",
    "elif a==b:\n",
    "    print(\"both are equal\")\n",
    "else:\n",
    "    print(\"b is greater\")"
   ]
  },
  {
   "cell_type": "code",
   "execution_count": 10,
   "id": "c8eff8ff-a1a0-4730-a068-a66f4e55dc4f",
   "metadata": {},
   "outputs": [
    {
     "name": "stdout",
     "output_type": "stream",
     "text": [
      "else part\n"
     ]
    }
   ],
   "source": [
    " a =15\n",
    "if a>20:\n",
    "    print(\">10\")\n",
    "elif not(a>20):\n",
    "    print(\"else part\")"
   ]
  },
  {
   "cell_type": "markdown",
   "id": "9a9ce4e4-5445-444b-ae15-af4a0e9aa89a",
   "metadata": {},
   "source": [
    "nested if"
   ]
  },
  {
   "cell_type": "code",
   "execution_count": 4,
   "id": "b79cc141-4c7e-4641-9c0f-0607075c87cb",
   "metadata": {},
   "outputs": [
    {
     "name": "stdin",
     "output_type": "stream",
     "text": [
      " 24\n"
     ]
    },
    {
     "name": "stdout",
     "output_type": "stream",
     "text": [
      ">10\n",
      ">20\n",
      "<=30\n",
      "outside of all ifs\n"
     ]
    }
   ],
   "source": [
    "a = int(input())\n",
    "if a>10:\n",
    "    print(\">10\")\n",
    "    if a>20:\n",
    "        print(\">20\")\n",
    "        if a>=30:\n",
    "            print(\">=30\")\n",
    "        else:\n",
    "            print(\"<=30\")\n",
    "    else:\n",
    "        print(\"<=20\")\n",
    "print(\"outside of all ifs\")        "
   ]
  },
  {
   "cell_type": "code",
   "execution_count": 5,
   "id": "273bf464-4c54-409a-86da-76ec4c147951",
   "metadata": {},
   "outputs": [
    {
     "data": {
      "text/plain": [
       "'\\nthis is a comment.\\n'"
      ]
     },
     "execution_count": 5,
     "metadata": {},
     "output_type": "execute_result"
    }
   ],
   "source": [
    "# single line comment\n",
    "\"\"\"\n",
    "this is a comment.\n",
    "\"\"\"\n",
    "\n"
   ]
  },
  {
   "cell_type": "code",
   "execution_count": 25,
   "id": "7a897433-e2e0-4f39-9c90-8344b36a4e79",
   "metadata": {},
   "outputs": [
    {
     "name": "stdin",
     "output_type": "stream",
     "text": [
      "enter a number: -8.053\n"
     ]
    },
    {
     "name": "stdout",
     "output_type": "stream",
     "text": [
      "-8\n",
      "even integer\n"
     ]
    }
   ],
   "source": [
    "x = float(input(\"enter a number:\"))\n",
    "y = round(x)\n",
    "if x>0:\n",
    "    \n",
    "    if y>x:\n",
    "        intportion = y-1 \n",
    "    else:\n",
    "        intportion = y   \n",
    "else:\n",
    "    if y>x:\n",
    "        intportion = y\n",
    "    else:\n",
    "        intportion = y+1  # Fixed indentation here to match the 'if' statement above\n",
    "        \n",
    "print(intportion)    \n",
    "if intportion%2==0:\n",
    "    print(\"even integer\")\n",
    "else:\n",
    "    print(\"odd integer\")\n"
   ]
  },
  {
   "cell_type": "code",
   "execution_count": null,
   "id": "a4fdfb32-0896-4a36-94e4-80818d4f9a24",
   "metadata": {},
   "outputs": [],
   "source": []
  },
  {
   "cell_type": "code",
   "execution_count": null,
   "id": "2c0528ce-78bb-42bf-9daf-6acd726d64bb",
   "metadata": {},
   "outputs": [],
   "source": []
  },
  {
   "cell_type": "code",
   "execution_count": null,
   "id": "858c97d8-2cc5-4884-9542-57c5f58dafac",
   "metadata": {},
   "outputs": [],
   "source": []
  }
 ],
 "metadata": {
  "kernelspec": {
   "display_name": "Python [conda env:base] *",
   "language": "python",
   "name": "conda-base-py"
  },
  "language_info": {
   "codemirror_mode": {
    "name": "ipython",
    "version": 3
   },
   "file_extension": ".py",
   "mimetype": "text/x-python",
   "name": "python",
   "nbconvert_exporter": "python",
   "pygments_lexer": "ipython3",
   "version": "3.13.5"
  }
 },
 "nbformat": 4,
 "nbformat_minor": 5
}
