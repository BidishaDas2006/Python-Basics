{
 "cells": [
  {
   "cell_type": "markdown",
   "id": "5f793b13-ef32-4304-95f4-570a25e313e7",
   "metadata": {},
   "source": [
    "functions"
   ]
  },
  {
   "cell_type": "code",
   "execution_count": 1,
   "id": "1bd97d3d-b720-462c-a8f1-20fb4f738911",
   "metadata": {},
   "outputs": [],
   "source": [
    "def printsuccess():\n",
    "    print(\"task is completed\")\n",
    "    print(\"next task\")"
   ]
  },
  {
   "cell_type": "code",
   "execution_count": 2,
   "id": "90acb755-9cb0-423b-8b5a-e30ace8a1f0f",
   "metadata": {},
   "outputs": [
    {
     "name": "stdout",
     "output_type": "stream",
     "text": [
      "task is completed\n",
      "next task\n"
     ]
    }
   ],
   "source": [
    "printsuccess()\n"
   ]
  },
  {
   "cell_type": "markdown",
   "id": "a3fedd36-0362-45fc-9142-9222b56a19e5",
   "metadata": {},
   "source": [
    "Doc String"
   ]
  },
  {
   "cell_type": "code",
   "execution_count": 3,
   "id": "44f00dec-4650-4d69-82e0-88b21eb78c2c",
   "metadata": {},
   "outputs": [],
   "source": [
    "def printSuccess2():\n",
    "    \"\"\"this function does nothing\"\"\"\n",
    "    print(\"hello\")"
   ]
  },
  {
   "cell_type": "code",
   "execution_count": 5,
   "id": "ce163ea9-302d-4223-b0cc-cacc2bf243d7",
   "metadata": {},
   "outputs": [
    {
     "data": {
      "text/plain": [
       "\u001b[1;31mSignature:\u001b[0m \u001b[0mprintSuccess2\u001b[0m\u001b[1;33m(\u001b[0m\u001b[1;33m)\u001b[0m\u001b[1;33m\u001b[0m\u001b[1;33m\u001b[0m\u001b[0m\n",
       "\u001b[1;31mSource:\u001b[0m   \n",
       "\u001b[1;32mdef\u001b[0m \u001b[0mprintSuccess2\u001b[0m\u001b[1;33m(\u001b[0m\u001b[1;33m)\u001b[0m\u001b[1;33m:\u001b[0m\u001b[1;33m\n",
       "\u001b[0m    \u001b[1;34m\"\"\"this function does nothing\"\"\"\u001b[0m\u001b[1;33m\n",
       "\u001b[0m    \u001b[0mprint\u001b[0m\u001b[1;33m(\u001b[0m\u001b[1;34m\"hello\"\u001b[0m\u001b[1;33m)\u001b[0m\u001b[1;33m\u001b[0m\u001b[1;33m\u001b[0m\u001b[0m\n",
       "\u001b[1;31mFile:\u001b[0m      c:\\users\\bidisha das\\appdata\\local\\temp\\ipykernel_24528\\1080871139.py\n",
       "\u001b[1;31mType:\u001b[0m      function"
      ]
     },
     "metadata": {},
     "output_type": "display_data"
    }
   ],
   "source": [
    "printSuccess2??"
   ]
  },
  {
   "cell_type": "code",
   "execution_count": 6,
   "id": "184f06c2-a7aa-417a-b8d4-92f9fa1672cd",
   "metadata": {},
   "outputs": [
    {
     "name": "stdout",
     "output_type": "stream",
     "text": [
      "Help on function printSuccess2 in module __main__:\n",
      "\n",
      "printSuccess2()\n",
      "    this function does nothing\n",
      "\n"
     ]
    }
   ],
   "source": [
    "help(printSuccess2)"
   ]
  },
  {
   "cell_type": "code",
   "execution_count": 7,
   "id": "4ddefd97-07b5-4526-8c82-6fc2c8f547e9",
   "metadata": {},
   "outputs": [
    {
     "data": {
      "text/plain": [
       "\u001b[1;31mSignature:\u001b[0m \u001b[0mlen\u001b[0m\u001b[1;33m(\u001b[0m\u001b[0mobj\u001b[0m\u001b[1;33m,\u001b[0m \u001b[1;33m/\u001b[0m\u001b[1;33m)\u001b[0m\u001b[1;33m\u001b[0m\u001b[1;33m\u001b[0m\u001b[0m\n",
       "\u001b[1;31mDocstring:\u001b[0m Return the number of items in a container.\n",
       "\u001b[1;31mType:\u001b[0m      builtin_function_or_method"
      ]
     },
     "metadata": {},
     "output_type": "display_data"
    }
   ],
   "source": [
    "len?\n"
   ]
  },
  {
   "cell_type": "code",
   "execution_count": 8,
   "id": "5688abaa-593e-4c70-ad0d-ebe43b743305",
   "metadata": {},
   "outputs": [
    {
     "data": {
      "text/plain": [
       "\u001b[1;31mSignature:\u001b[0m \u001b[0mlen\u001b[0m\u001b[1;33m(\u001b[0m\u001b[0mobj\u001b[0m\u001b[1;33m,\u001b[0m \u001b[1;33m/\u001b[0m\u001b[1;33m)\u001b[0m\u001b[1;33m\u001b[0m\u001b[1;33m\u001b[0m\u001b[0m\n",
       "\u001b[1;31mDocstring:\u001b[0m Return the number of items in a container.\n",
       "\u001b[1;31mType:\u001b[0m      builtin_function_or_method"
      ]
     },
     "metadata": {},
     "output_type": "display_data"
    }
   ],
   "source": [
    "len??"
   ]
  },
  {
   "cell_type": "code",
   "execution_count": 3,
   "id": "9de4849c-8fa6-4292-8680-5edd4880fc2c",
   "metadata": {},
   "outputs": [],
   "source": [
    "def printMessege(msg):\n",
    "    \"\"\" this prints an input string\"\"\"\n",
    "    if isinstance(msg ,str):\n",
    "        print(msg)\n",
    "    else:\n",
    "        print(\"it is not a string\")"
   ]
  },
  {
   "cell_type": "code",
   "execution_count": 5,
   "id": "77e314ea-c4a9-416e-aeb2-af22bb31f5ce",
   "metadata": {},
   "outputs": [
    {
     "data": {
      "text/plain": [
       "\u001b[1;31mSignature:\u001b[0m \u001b[0mprintMessege\u001b[0m\u001b[1;33m(\u001b[0m\u001b[0mmsg\u001b[0m\u001b[1;33m)\u001b[0m\u001b[1;33m\u001b[0m\u001b[1;33m\u001b[0m\u001b[0m\n",
       "\u001b[1;31mDocstring:\u001b[0m this prints an input string\n",
       "\u001b[1;31mFile:\u001b[0m      c:\\users\\bidisha das\\appdata\\local\\temp\\ipykernel_21460\\1236108436.py\n",
       "\u001b[1;31mType:\u001b[0m      function"
      ]
     },
     "metadata": {},
     "output_type": "display_data"
    }
   ],
   "source": [
    "printMessege?"
   ]
  },
  {
   "cell_type": "code",
   "execution_count": 6,
   "id": "403067ad-f6f1-4d04-8de6-157f4e34f19c",
   "metadata": {},
   "outputs": [
    {
     "name": "stdout",
     "output_type": "stream",
     "text": [
      "Help on function printMessege in module __main__:\n",
      "\n",
      "printMessege(msg)\n",
      "    this prints an input string\n",
      "\n"
     ]
    }
   ],
   "source": [
    "help(printMessege)"
   ]
  },
  {
   "cell_type": "code",
   "execution_count": 7,
   "id": "32f7375b-1bac-44a4-a8ac-235d3f63e0cd",
   "metadata": {},
   "outputs": [
    {
     "name": "stdout",
     "output_type": "stream",
     "text": [
      "this is a messege\n"
     ]
    }
   ],
   "source": [
    "printMessege(\"this is a messege\")"
   ]
  },
  {
   "cell_type": "code",
   "execution_count": 8,
   "id": "08b9ef10-52ed-4b1a-a71c-76ac1cedb8a1",
   "metadata": {},
   "outputs": [
    {
     "name": "stdout",
     "output_type": "stream",
     "text": [
      "23\n"
     ]
    }
   ],
   "source": [
    "printMessege(\"23\")"
   ]
  },
  {
   "cell_type": "code",
   "execution_count": 9,
   "id": "0a636cb4-ade9-4338-bb0e-84685a264e74",
   "metadata": {},
   "outputs": [
    {
     "name": "stdout",
     "output_type": "stream",
     "text": [
      "it is not a string\n"
     ]
    }
   ],
   "source": [
    "printMessege(23)"
   ]
  },
  {
   "cell_type": "markdown",
   "id": "f89afdda-528a-4615-8fb2-32080a3ae342",
   "metadata": {},
   "source": [
    "more than one argument in a function"
   ]
  },
  {
   "cell_type": "code",
   "execution_count": 10,
   "id": "7cbe149b-56f2-435a-bbed-7e8e205be8a7",
   "metadata": {},
   "outputs": [],
   "source": [
    "def Pow(a,b):\n",
    "    \"\"\" this prints the power of given input\"\"\"\n",
    "    c =a**b\n",
    "    print(c)"
   ]
  },
  {
   "cell_type": "code",
   "execution_count": 11,
   "id": "51085146-42a4-44b7-b7da-b00deef72631",
   "metadata": {},
   "outputs": [
    {
     "data": {
      "text/plain": [
       "\u001b[1;31mSignature:\u001b[0m \u001b[0mpow\u001b[0m\u001b[1;33m(\u001b[0m\u001b[0mbase\u001b[0m\u001b[1;33m,\u001b[0m \u001b[0mexp\u001b[0m\u001b[1;33m,\u001b[0m \u001b[0mmod\u001b[0m\u001b[1;33m=\u001b[0m\u001b[1;32mNone\u001b[0m\u001b[1;33m)\u001b[0m\u001b[1;33m\u001b[0m\u001b[1;33m\u001b[0m\u001b[0m\n",
       "\u001b[1;31mDocstring:\u001b[0m\n",
       "Equivalent to base**exp with 2 arguments or base**exp % mod with 3 arguments\n",
       "\n",
       "Some types, such as ints, are able to use a more efficient algorithm when\n",
       "invoked using the three argument form.\n",
       "\u001b[1;31mType:\u001b[0m      builtin_function_or_method"
      ]
     },
     "metadata": {},
     "output_type": "display_data"
    }
   ],
   "source": [
    "pow?"
   ]
  },
  {
   "cell_type": "code",
   "execution_count": 12,
   "id": "5c423dbf-5fc7-416e-8339-fe43593a846c",
   "metadata": {},
   "outputs": [
    {
     "data": {
      "text/plain": [
       "9"
      ]
     },
     "execution_count": 12,
     "metadata": {},
     "output_type": "execute_result"
    }
   ],
   "source": [
    "pow(3,2)"
   ]
  },
  {
   "cell_type": "code",
   "execution_count": 13,
   "id": "861f943b-f671-4b94-9a15-4ded21d02540",
   "metadata": {},
   "outputs": [
    {
     "data": {
      "text/plain": [
       "64"
      ]
     },
     "execution_count": 13,
     "metadata": {},
     "output_type": "execute_result"
    }
   ],
   "source": [
    "pow(4,3)"
   ]
  },
  {
   "cell_type": "code",
   "execution_count": 14,
   "id": "8ed90693-b312-49a3-95c4-6a1094be86d6",
   "metadata": {},
   "outputs": [
    {
     "data": {
      "text/plain": [
       "6561"
      ]
     },
     "execution_count": 14,
     "metadata": {},
     "output_type": "execute_result"
    }
   ],
   "source": [
    "pow(9,4)"
   ]
  },
  {
   "cell_type": "code",
   "execution_count": 15,
   "id": "a4f81423-4804-447c-8ce1-533d2b01251e",
   "metadata": {},
   "outputs": [],
   "source": [
    "def checkArgs(a,b,c):\n",
    "    if isinstance(a,(int,float)) and isinstance(b,(int,float)) and isinstance(c,(int,float)):\n",
    "        print((a+b+c)**2)\n",
    "    else:\n",
    "        print(\"incorrect\")\n"
   ]
  },
  {
   "cell_type": "code",
   "execution_count": 16,
   "id": "7dbd8c94-a68c-4b3e-8f2a-76a04ede0c19",
   "metadata": {},
   "outputs": [
    {
     "name": "stdout",
     "output_type": "stream",
     "text": [
      "81\n"
     ]
    }
   ],
   "source": [
    "checkArgs(2,3,4)"
   ]
  },
  {
   "cell_type": "code",
   "execution_count": 17,
   "id": "305b9150-17ff-45f4-b9c7-4e2bed7738ce",
   "metadata": {},
   "outputs": [
    {
     "name": "stdout",
     "output_type": "stream",
     "text": [
      "incorrect\n"
     ]
    }
   ],
   "source": [
    "checkArgs(4,5,\"g\")"
   ]
  },
  {
   "cell_type": "code",
   "execution_count": 18,
   "id": "7975a7cc-3c6b-4872-9d9c-658ff2365da1",
   "metadata": {},
   "outputs": [],
   "source": [
    "def f(a,b,c):\n",
    "    print(\"A is:\",a)\n",
    "    print(\"B is:\",b)\n",
    "    print(\"C is:\",c)\n",
    "    "
   ]
  },
  {
   "cell_type": "code",
   "execution_count": 19,
   "id": "5639421a-1f9a-47b8-b8be-8d7932fd4c95",
   "metadata": {},
   "outputs": [
    {
     "name": "stdout",
     "output_type": "stream",
     "text": [
      "A is: 2\n",
      "B is: 3\n",
      "C is: 4\n"
     ]
    }
   ],
   "source": [
    "f(2,3,4)\n"
   ]
  },
  {
   "cell_type": "code",
   "execution_count": 20,
   "id": "cfb8b37b-67db-4d0f-9560-4a4b5887155e",
   "metadata": {},
   "outputs": [
    {
     "name": "stdout",
     "output_type": "stream",
     "text": [
      "A is: 3\n",
      "B is: 2\n",
      "C is: 4\n"
     ]
    }
   ],
   "source": [
    "f(3,2,4)"
   ]
  },
  {
   "cell_type": "code",
   "execution_count": 22,
   "id": "eddc880e-215d-43a4-96dd-b8fc4a364a64",
   "metadata": {},
   "outputs": [
    {
     "name": "stdout",
     "output_type": "stream",
     "text": [
      "A is: 3\n",
      "B is: 2\n",
      "C is: 4\n"
     ]
    }
   ],
   "source": [
    "f(a=3 , b=2, c=4)"
   ]
  },
  {
   "cell_type": "markdown",
   "id": "c4df1a80-8c91-4509-bfff-8e8f566c36a2",
   "metadata": {},
   "source": [
    "return statement:it returns none if nothing is specified"
   ]
  },
  {
   "cell_type": "code",
   "execution_count": 23,
   "id": "64a78cf7-6589-4896-87b6-8feaad8ebddf",
   "metadata": {},
   "outputs": [],
   "source": [
    "def add(x,y):\n",
    "    c=x+y\n",
    "    return c"
   ]
  },
  {
   "cell_type": "code",
   "execution_count": 24,
   "id": "2b72403c-a68b-40e8-b3d8-b0afd62338a1",
   "metadata": {},
   "outputs": [
    {
     "data": {
      "text/plain": [
       "30"
      ]
     },
     "execution_count": 24,
     "metadata": {},
     "output_type": "execute_result"
    }
   ],
   "source": [
    "add(10,20)"
   ]
  },
  {
   "cell_type": "code",
   "execution_count": 25,
   "id": "d5d7ad16-725c-4969-a59b-36733ad4d95f",
   "metadata": {},
   "outputs": [],
   "source": [
    "variableOutsidethefunction =3"
   ]
  },
  {
   "cell_type": "code",
   "execution_count": 36,
   "id": "685156b7-7096-4261-9561-db776d49b63b",
   "metadata": {},
   "outputs": [],
   "source": [
    "def f():\n",
    "    variableOutsidethefunction =5\n",
    "    #print(variableOutsidethefunction)"
   ]
  },
  {
   "cell_type": "code",
   "execution_count": 27,
   "id": "0f3522d3-afb3-4851-9c20-2d186abc4280",
   "metadata": {},
   "outputs": [
    {
     "name": "stdout",
     "output_type": "stream",
     "text": [
      "3\n"
     ]
    }
   ],
   "source": [
    "f()"
   ]
  },
  {
   "cell_type": "code",
   "execution_count": 31,
   "id": "196750d3-ffad-4f10-94cc-160309426f2e",
   "metadata": {},
   "outputs": [
    {
     "name": "stdout",
     "output_type": "stream",
     "text": [
      "5\n"
     ]
    }
   ],
   "source": [
    "f()\n"
   ]
  },
  {
   "cell_type": "code",
   "execution_count": 32,
   "id": "89e7f224-1888-49cf-953d-a03043e44193",
   "metadata": {},
   "outputs": [
    {
     "name": "stdout",
     "output_type": "stream",
     "text": [
      "3\n"
     ]
    }
   ],
   "source": [
    "print(variableOutsidethefunction)"
   ]
  },
  {
   "cell_type": "code",
   "execution_count": 39,
   "id": "62338125-236b-42d3-a847-dcdebbcd6624",
   "metadata": {},
   "outputs": [
    {
     "name": "stdout",
     "output_type": "stream",
     "text": [
      "None\n"
     ]
    }
   ],
   "source": [
    "print(f())"
   ]
  },
  {
   "cell_type": "code",
   "execution_count": 40,
   "id": "24323dd4-e93d-43b6-bcf3-301952769e7e",
   "metadata": {},
   "outputs": [],
   "source": [
    "def g():\n",
    "    a=3\n",
    "    b=2\n",
    "    c=a+b\n",
    "    print(\"something\")\n",
    "    return\n",
    "    print(\"nothing\")"
   ]
  },
  {
   "cell_type": "code",
   "execution_count": 41,
   "id": "584de8fe-cbba-4ca6-8379-3b74765e1beb",
   "metadata": {},
   "outputs": [
    {
     "name": "stdout",
     "output_type": "stream",
     "text": [
      "something\n"
     ]
    }
   ],
   "source": [
    "g()"
   ]
  },
  {
   "cell_type": "code",
   "execution_count": 43,
   "id": "2c5bb141-1cc7-4c13-b9a1-72a9a54ff4c9",
   "metadata": {},
   "outputs": [
    {
     "name": "stdout",
     "output_type": "stream",
     "text": [
      "something\n",
      "None\n"
     ]
    }
   ],
   "source": [
    "print(g())"
   ]
  },
  {
   "cell_type": "code",
   "execution_count": 44,
   "id": "b56d7687-b107-4b3f-b6c3-24e0bce3f933",
   "metadata": {},
   "outputs": [],
   "source": [
    "def r():\n",
    "    a=5\n",
    "    b=7\n",
    "    c=\"something\"\n",
    "    return a,b,c"
   ]
  },
  {
   "cell_type": "code",
   "execution_count": 46,
   "id": "ba57735d-7c55-474d-a511-2316065e4be7",
   "metadata": {},
   "outputs": [
    {
     "name": "stdout",
     "output_type": "stream",
     "text": [
      "5 7 something\n"
     ]
    }
   ],
   "source": [
    "x,y,z=r()\n",
    "print(x,y,z)"
   ]
  },
  {
   "cell_type": "markdown",
   "id": "5cb5b096-7d17-431d-9b69-8efcd8a009b3",
   "metadata": {},
   "source": [
    "for multiple variables"
   ]
  },
  {
   "cell_type": "code",
   "execution_count": 9,
   "id": "9146e18e-1bc8-46cb-bedb-406ecf2b6ea4",
   "metadata": {},
   "outputs": [],
   "source": [
    "def myMultiply(*args):\n",
    "    m=1\n",
    "    for i in range(len(args)):\n",
    "        m*=args[i]\n",
    "    return s\n",
    "    "
   ]
  },
  {
   "cell_type": "code",
   "execution_count": 10,
   "id": "685c1a3d-0a08-4520-965d-50c1e528ce31",
   "metadata": {},
   "outputs": [
    {
     "name": "stdout",
     "output_type": "stream",
     "text": [
      "24\n"
     ]
    }
   ],
   "source": [
    "print(myMultiply(2,3,4))"
   ]
  },
  {
   "cell_type": "code",
   "execution_count": 11,
   "id": "5a99fa54-4a13-4ee4-99d9-4deb9578d80e",
   "metadata": {},
   "outputs": [],
   "source": [
    "def printAllVariableNamesAndValues(**args):\n",
    "    for x in args:\n",
    "        print(\"variable is:\",x,\"the value is:\",args[x])"
   ]
  },
  {
   "cell_type": "code",
   "execution_count": 12,
   "id": "398629c8-6037-417a-9562-f7061c96c8f8",
   "metadata": {},
   "outputs": [
    {
     "name": "stdout",
     "output_type": "stream",
     "text": [
      "variable is: a the value is: 3\n",
      "variable is: b the value is: 6\n",
      "variable is: c the value is: CCC\n",
      "variable is: d the value is: done\n",
      "variable is: e the value is: 9.4\n"
     ]
    }
   ],
   "source": [
    "printAllVariableNamesAndValues(a=3 ,b=6 ,c=\"CCC\" , d=\"done\",e =9.4)"
   ]
  },
  {
   "cell_type": "markdown",
   "id": "e829c9a1-410a-48e8-9943-fb942e25194f",
   "metadata": {},
   "source": [
    "Default values"
   ]
  },
  {
   "cell_type": "code",
   "execution_count": 13,
   "id": "9223f077-b41c-44c7-b87f-12907fb26178",
   "metadata": {},
   "outputs": [],
   "source": [
    "def ggg(s=5):\n",
    "    print(s)"
   ]
  },
  {
   "cell_type": "code",
   "execution_count": 14,
   "id": "447ece61-16dc-4fdc-8b41-8d451145bd8c",
   "metadata": {},
   "outputs": [
    {
     "name": "stdout",
     "output_type": "stream",
     "text": [
      "5\n"
     ]
    }
   ],
   "source": [
    "ggg()"
   ]
  },
  {
   "cell_type": "code",
   "execution_count": 15,
   "id": "81a0a801-64ec-438f-b5d9-0e5abf6e5912",
   "metadata": {},
   "outputs": [
    {
     "name": "stdout",
     "output_type": "stream",
     "text": [
      "789\n"
     ]
    }
   ],
   "source": [
    "ggg(789)"
   ]
  },
  {
   "cell_type": "code",
   "execution_count": 16,
   "id": "874245ad-40b8-4b27-8194-ca8e2dd9e04c",
   "metadata": {},
   "outputs": [
    {
     "name": "stdout",
     "output_type": "stream",
     "text": [
      "5.46\n"
     ]
    }
   ],
   "source": [
    "ggg(5.46)"
   ]
  },
  {
   "cell_type": "code",
   "execution_count": 17,
   "id": "72123523-9b69-4b6b-81c7-d9b01e2f7656",
   "metadata": {},
   "outputs": [
    {
     "name": "stdout",
     "output_type": "stream",
     "text": [
      "[2, 9.8, 4, 5, 6]\n"
     ]
    }
   ],
   "source": [
    "L=[2,3,4,5,6]\n",
    "L1=L\n",
    "L[1]=9.8\n",
    "print(L)"
   ]
  },
  {
   "cell_type": "code",
   "execution_count": 18,
   "id": "b8706820-5436-4798-8ad2-91f9897066fe",
   "metadata": {},
   "outputs": [],
   "source": [
    "def ff(L=[1,2]):\n",
    "    for i in L:\n",
    "        print(i)\n",
    "        \n",
    "    "
   ]
  },
  {
   "cell_type": "code",
   "execution_count": 19,
   "id": "1fe9f2a3-85ad-41a5-b4e7-b3a9de974d9e",
   "metadata": {},
   "outputs": [
    {
     "name": "stdout",
     "output_type": "stream",
     "text": [
      "1\n",
      "2\n"
     ]
    }
   ],
   "source": [
    "ff()"
   ]
  },
  {
   "cell_type": "code",
   "execution_count": 20,
   "id": "19a51bcf-7503-4a07-96e1-1e2b212d880c",
   "metadata": {},
   "outputs": [
    {
     "name": "stdout",
     "output_type": "stream",
     "text": [
      "3\n",
      "4\n"
     ]
    }
   ],
   "source": [
    "L2=[3,4]\n",
    "ff(L2)"
   ]
  },
  {
   "cell_type": "code",
   "execution_count": null,
   "id": "66da5660-aaef-451f-947c-24d0391d65a3",
   "metadata": {},
   "outputs": [],
   "source": []
  }
 ],
 "metadata": {
  "kernelspec": {
   "display_name": "Python [conda env:base] *",
   "language": "python",
   "name": "conda-base-py"
  },
  "language_info": {
   "codemirror_mode": {
    "name": "ipython",
    "version": 3
   },
   "file_extension": ".py",
   "mimetype": "text/x-python",
   "name": "python",
   "nbconvert_exporter": "python",
   "pygments_lexer": "ipython3",
   "version": "3.13.5"
  }
 },
 "nbformat": 4,
 "nbformat_minor": 5
}
